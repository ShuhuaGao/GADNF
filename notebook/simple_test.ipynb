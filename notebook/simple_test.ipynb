{
 "cells": [
  {
   "cell_type": "code",
   "execution_count": 1,
   "metadata": {},
   "outputs": [],
   "source": [
    "using Random\n",
    "using Random: bitrand\n",
    "using Revise, GADNF"
   ]
  },
  {
   "cell_type": "code",
   "execution_count": 2,
   "metadata": {},
   "outputs": [
    {
     "data": {
      "text/plain": [
       "TaskLocalRNG()"
      ]
     },
     "metadata": {},
     "output_type": "display_data"
    }
   ],
   "source": [
    "Random.seed!(81)"
   ]
  },
  {
   "cell_type": "markdown",
   "metadata": {},
   "source": [
    "## Individual"
   ]
  },
  {
   "cell_type": "code",
   "execution_count": 3,
   "metadata": {},
   "outputs": [
    {
     "data": {
      "text/plain": [
       "3-element Vector{String}:\n",
       " \"A\"\n",
       " \"B\"\n",
       " \"C\""
      ]
     },
     "metadata": {},
     "output_type": "display_data"
    }
   ],
   "source": [
    "feature_names = [\"A\", \"B\", \"C\"]"
   ]
  },
  {
   "cell_type": "code",
   "execution_count": 4,
   "metadata": {},
   "outputs": [
    {
     "data": {
      "text/plain": [
       "2-element Vector{Bool}:\n",
       " 1\n",
       " 1"
      ]
     },
     "metadata": {},
     "output_type": "display_data"
    },
    {
     "data": {
      "text/plain": [
       "3×2 Matrix{Int8}:\n",
       " -1  -1\n",
       "  0   1\n",
       " -1  -1"
      ]
     },
     "metadata": {},
     "output_type": "display_data"
    }
   ],
   "source": [
    "ind = GADNF.Individual(3, 2)"
   ]
  },
  {
   "cell_type": "code",
   "execution_count": 5,
   "metadata": {},
   "outputs": [
    {
     "data": {
      "text/plain": [
       "3-element BitVector:\n",
       " 1\n",
       " 1\n",
       " 1"
      ]
     },
     "metadata": {},
     "output_type": "display_data"
    }
   ],
   "source": [
    "GADNF.mark_selected_regulators!(ind)"
   ]
  },
  {
   "cell_type": "code",
   "execution_count": 6,
   "metadata": {},
   "outputs": [
    {
     "data": {
      "text/plain": [
       "3-element Vector{String}:\n",
       " \"A\"\n",
       " \"B\"\n",
       " \"C\""
      ]
     },
     "metadata": {},
     "output_type": "display_data"
    }
   ],
   "source": [
    "GADNF.get_selected_regulators(ind.regulator_selected, feature_names)"
   ]
  },
  {
   "cell_type": "code",
   "execution_count": 7,
   "metadata": {},
   "outputs": [
    {
     "data": {
      "text/plain": [
       "\"(~A & ~C) | (~A & B & ~C)\""
      ]
     },
     "metadata": {},
     "output_type": "display_data"
    }
   ],
   "source": [
    "GADNF.to_expression(ind, feature_names)"
   ]
  },
  {
   "cell_type": "code",
   "execution_count": 8,
   "metadata": {},
   "outputs": [
    {
     "data": {
      "text/plain": [
       "(!A & !C) | ((!A & B) & !C)"
      ]
     },
     "metadata": {},
     "output_type": "display_data"
    }
   ],
   "source": [
    "GADNF.to_simplified_expression(ind, feature_names)"
   ]
  },
  {
   "cell_type": "markdown",
   "metadata": {},
   "source": [
    "### mutate"
   ]
  },
  {
   "cell_type": "code",
   "execution_count": 9,
   "metadata": {},
   "outputs": [
    {
     "data": {
      "text/plain": [
       "2-element Vector{Bool}:\n",
       " 1\n",
       " 1"
      ]
     },
     "metadata": {},
     "output_type": "display_data"
    },
    {
     "data": {
      "text/plain": [
       "3×2 Matrix{Int8}:\n",
       " -1  -1\n",
       "  0   1\n",
       " -1  -1"
      ]
     },
     "metadata": {},
     "output_type": "display_data"
    }
   ],
   "source": [
    "GADNF.mutate!(ind)\n",
    "ind"
   ]
  },
  {
   "cell_type": "code",
   "execution_count": 10,
   "metadata": {},
   "outputs": [
    {
     "data": {
      "text/plain": [
       "2-element Vector{Bool}:\n",
       " 1\n",
       " 1"
      ]
     },
     "metadata": {},
     "output_type": "display_data"
    },
    {
     "data": {
      "text/plain": [
       "3×2 Matrix{Int8}:\n",
       " -1  -1\n",
       "  0   1\n",
       " -1  -1"
      ]
     },
     "metadata": {},
     "output_type": "display_data"
    }
   ],
   "source": [
    "GADNF.mutate!(ind)\n",
    "ind"
   ]
  },
  {
   "cell_type": "markdown",
   "metadata": {},
   "source": [
    "### cx"
   ]
  },
  {
   "cell_type": "code",
   "execution_count": 11,
   "metadata": {},
   "outputs": [
    {
     "data": {
      "text/plain": [
       "3×2 Matrix{Int8}:\n",
       " 1  -1\n",
       " 1   1\n",
       " 0   1"
      ]
     },
     "metadata": {},
     "output_type": "display_data"
    },
    {
     "data": {
      "text/plain": [
       "3×2 Matrix{Int8}:\n",
       "  1  1\n",
       " -1  0\n",
       "  0  1"
      ]
     },
     "metadata": {},
     "output_type": "display_data"
    },
    {
     "data": {
      "text/plain": [
       "(nothing, nothing)"
      ]
     },
     "metadata": {},
     "output_type": "display_data"
    }
   ],
   "source": [
    "ind1 = GADNF.Individual(3, 2)\n",
    "ind2 = GADNF.Individual(3, 2)\n",
    "\n",
    "display.((ind1.CNs, ind2.CNs))"
   ]
  },
  {
   "cell_type": "code",
   "execution_count": 12,
   "metadata": {},
   "outputs": [
    {
     "data": {
      "text/plain": [
       "3×2 Matrix{Int8}:\n",
       " 1  1\n",
       " 1  0\n",
       " 0  1"
      ]
     },
     "metadata": {},
     "output_type": "display_data"
    },
    {
     "data": {
      "text/plain": [
       "3×2 Matrix{Int8}:\n",
       "  1  -1\n",
       " -1   1\n",
       "  0   1"
      ]
     },
     "metadata": {},
     "output_type": "display_data"
    },
    {
     "data": {
      "text/plain": [
       "(nothing, nothing)"
      ]
     },
     "metadata": {},
     "output_type": "display_data"
    }
   ],
   "source": [
    "GADNF.crossover!(ind1, ind2; edge_cx_rate=0.4)\n",
    "display.((ind1.CNs, ind2.CNs))"
   ]
  },
  {
   "cell_type": "markdown",
   "metadata": {},
   "source": [
    "### fitness\n",
    "\n",
    "#### fitting error"
   ]
  },
  {
   "cell_type": "code",
   "execution_count": 13,
   "metadata": {},
   "outputs": [
    {
     "data": {
      "text/plain": [
       "\"~A & ~B & ~C\""
      ]
     },
     "metadata": {},
     "output_type": "display_data"
    }
   ],
   "source": [
    "ind1 = GADNF.Individual(3, 2)\n",
    "GADNF.to_expression(ind1, feature_names)"
   ]
  },
  {
   "cell_type": "code",
   "execution_count": 14,
   "metadata": {},
   "outputs": [
    {
     "data": {
      "text/plain": [
       "3×4 BitMatrix:\n",
       " 0  0  1  1\n",
       " 1  0  1  1\n",
       " 0  0  0  0"
      ]
     },
     "metadata": {},
     "output_type": "display_data"
    },
    {
     "data": {
      "text/plain": [
       "4-element BitVector:\n",
       " 1\n",
       " 1\n",
       " 1\n",
       " 1"
      ]
     },
     "metadata": {},
     "output_type": "display_data"
    }
   ],
   "source": [
    "X = bitrand(3, 4)\n",
    "y = bitrand(4)\n",
    "display(X) \n",
    "display(y)"
   ]
  },
  {
   "cell_type": "code",
   "execution_count": 15,
   "metadata": {},
   "outputs": [
    {
     "data": {
      "text/plain": [
       "3"
      ]
     },
     "metadata": {},
     "output_type": "display_data"
    }
   ],
   "source": [
    "GADNF.count_fitting_error!(ind1, X, y)"
   ]
  },
  {
   "cell_type": "markdown",
   "metadata": {},
   "source": [
    "#### complexity"
   ]
  },
  {
   "cell_type": "code",
   "execution_count": 16,
   "metadata": {},
   "outputs": [
    {
     "data": {
      "text/plain": [
       "2-element Vector{Bool}:\n",
       " 0\n",
       " 0"
      ]
     },
     "metadata": {},
     "output_type": "display_data"
    },
    {
     "data": {
      "text/plain": [
       "3×2 Matrix{Int8}:\n",
       " -1  -1\n",
       "  0   0\n",
       " -1   0"
      ]
     },
     "metadata": {},
     "output_type": "display_data"
    }
   ],
   "source": [
    "ind1 = GADNF.Individual(3, 2)\n",
    "display(ind1)"
   ]
  },
  {
   "cell_type": "code",
   "execution_count": 17,
   "metadata": {},
   "outputs": [
    {
     "data": {
      "text/plain": [
       "3-element BitVector:\n",
       " 0\n",
       " 0\n",
       " 0"
      ]
     },
     "metadata": {},
     "output_type": "display_data"
    }
   ],
   "source": [
    "GADNF.mark_selected_regulators!(ind1)"
   ]
  },
  {
   "cell_type": "code",
   "execution_count": 18,
   "metadata": {},
   "outputs": [
    {
     "data": {
      "text/plain": [
       "0.0"
      ]
     },
     "metadata": {},
     "output_type": "display_data"
    }
   ],
   "source": [
    "GADNF.count_complexity(ind1)"
   ]
  },
  {
   "cell_type": "markdown",
   "metadata": {},
   "source": [
    "## GA"
   ]
  },
  {
   "cell_type": "markdown",
   "metadata": {},
   "source": [
    "### Random data"
   ]
  },
  {
   "cell_type": "code",
   "execution_count": 19,
   "metadata": {},
   "outputs": [
    {
     "data": {
      "text/plain": [
       "6"
      ]
     },
     "metadata": {},
     "output_type": "display_data"
    }
   ],
   "source": [
    "target = \"target\"\n",
    "feature_names = [\"A\", \"B\", \"C\"]\n",
    "num_inputs = length(feature_names)\n",
    "num_samples= 6"
   ]
  },
  {
   "cell_type": "code",
   "execution_count": 20,
   "metadata": {},
   "outputs": [
    {
     "data": {
      "text/plain": [
       "3×6 BitMatrix:\n",
       " 1  0  0  0  0  1\n",
       " 0  0  0  0  1  1\n",
       " 0  1  0  1  0  0"
      ]
     },
     "metadata": {},
     "output_type": "display_data"
    },
    {
     "data": {
      "text/plain": [
       "1×6 adjoint(::BitVector) with eltype Bool:\n",
       " 0  0  1  0  1  0"
      ]
     },
     "metadata": {},
     "output_type": "display_data"
    }
   ],
   "source": [
    "X = bitrand(num_inputs, num_samples)\n",
    "y = bitrand(num_samples)\n",
    "display(X) \n",
    "display(y')"
   ]
  },
  {
   "cell_type": "code",
   "execution_count": 21,
   "metadata": {},
   "outputs": [
    {
     "data": {
      "text/plain": [
       "GAConfig(50, 100, 1, 3, 2, 0.05, 0.05, 0.1, 0.1, 0.3, 0.7, 0.2, 20)"
      ]
     },
     "metadata": {},
     "output_type": "display_data"
    }
   ],
   "source": [
    "cfg = GAConfig(; num_generations=50, population_size=100, num_conjunctions=3,\n",
    "    allowed_stagnation_generations=20, mut_rate=0.2, mut_rate_min=0.3,\n",
    "    mut_rate_max=0.7)"
   ]
  },
  {
   "cell_type": "code",
   "execution_count": 22,
   "metadata": {},
   "outputs": [
    {
     "name": "stdout",
     "output_type": "stream",
     "text": [
      "Running GA for target ...\n",
      "1     (0.1667, 1.2222)\n",
      "2     (0.1667, 1.2222)\n",
      "3     (0.0000, 2.2222)\n",
      "4     (0.0000, 1.2222)\n",
      "5     (0.0000, 1.2222)\n",
      "6     (0.0000, 1.2222)\n",
      "7     (0.0000, 1.2222)\n",
      "8     (0.0000, 1.2222)\n",
      "9     (0.0000, 1.2222)\n",
      "10    (0.0000, 1.2222)\n",
      "11    (0.0000, 1.2222)\n",
      "12    (0.0000, 1.2222)\n",
      "13    (0.0000, 1.2222)\n",
      "14    (0.0000, 1.2222)\n",
      "15    (0.0000, 1.2222)\n",
      "16    (0.0000, 1.2222)\n",
      "17    (0.0000, 1.2222)\n",
      "18    (0.0000, 1.2222)\n",
      "19    (0.0000, 1.2222)\n",
      "20    (0.0000, 1.2222)\n",
      "21    (0.0000, 1.2222)\n",
      "22    (0.0000, 1.2222)\n",
      "23    (0.0000, 1.2222)\n",
      "24    (0.0000, 1.2222)\n",
      "25    (0.0000, 1.2222)\n",
      "26    (0.0000, 1.2222)\n",
      "Early termination: 20 generations without improvement.\n"
     ]
    },
    {
     "data": {
      "text/plain": [
       "100-element Vector{Individual}:\n",
       " Individual(Bool[0, 0, 1], Int8[-1 -1 -1; 1 1 0; 0 1 -1], 0.0, 1.2222222222222223, Bool[0, 0, 1, 0, 1, 0], Bool[1, 0, 1])\n",
       " Individual(Bool[0, 0, 1], Int8[0 1 -1; -1 -1 0; 1 1 -1], 0.0, 1.2222222222222223, Bool[0, 0, 1, 0, 1, 0], Bool[1, 0, 1])\n",
       " Individual(Bool[0, 0, 1], Int8[0 -1 -1; -1 -1 0; 1 0 -1], 0.0, 1.2222222222222223, Bool[0, 0, 1, 0, 1, 0], Bool[1, 0, 1])\n",
       " Individual(Bool[1, 0, 1], Int8[0 -1 -1; -1 -1 0; 1 0 -1], 0.3333333333333333, 2.1111111111111107, Bool[0, 1, 1, 1, 1, 0], Bool[1, 1, 1])\n",
       " Individual(Bool[0, 0, 1], Int8[0 1 -1; -1 -1 0; 1 0 -1], 0.0, 1.2222222222222223, Bool[0, 0, 1, 0, 1, 0], Bool[1, 0, 1])\n",
       " Individual(Bool[0, 0, 1], Int8[1 -1 -1; 1 -1 0; 1 0 -1], 0.0, 1.2222222222222223, Bool[0, 0, 1, 0, 1, 0], Bool[1, 0, 1])\n",
       " Individual(Bool[0, 0, 1], Int8[0 0 -1; -1 0 0; 1 0 -1], 0.0, 1.2222222222222223, Bool[0, 0, 1, 0, 1, 0], Bool[1, 0, 1])\n",
       " Individual(Bool[0, 0, 1], Int8[-1 -1 -1; 1 0 0; 1 1 -1], 0.0, 1.2222222222222223, Bool[0, 0, 1, 0, 1, 0], Bool[1, 0, 1])\n",
       " Individual(Bool[0, 0, 1], Int8[0 -1 -1; 0 -1 0; 0 -1 -1], 0.0, 1.2222222222222223, Bool[0, 0, 1, 0, 1, 0], Bool[1, 0, 1])\n",
       " Individual(Bool[0, 0, 1], Int8[0 -1 -1; 1 1 0; 0 -1 -1], 0.0, 1.2222222222222223, Bool[0, 0, 1, 0, 1, 0], Bool[1, 0, 1])\n",
       " ⋮\n",
       " Individual(Bool[0, 0, 1], Int8[0 -1 -1; 1 0 0; 1 0 -1], 0.0, 1.2222222222222223, Bool[0, 0, 1, 0, 1, 0], Bool[1, 0, 1])\n",
       " Individual(Bool[0, 0, 1], Int8[-1 -1 -1; 1 0 0; 0 -1 -1], 0.0, 1.2222222222222223, Bool[0, 0, 1, 0, 1, 0], Bool[1, 0, 1])\n",
       " Individual(Bool[0, 0, 1], Int8[0 -1 -1; 1 -1 0; 1 1 -1], 0.0, 1.2222222222222223, Bool[0, 0, 1, 0, 1, 0], Bool[1, 0, 1])\n",
       " Individual(Bool[0, 0, 1], Int8[0 1 -1; 1 1 0; 0 -1 -1], 0.0, 1.2222222222222223, Bool[0, 0, 1, 0, 1, 0], Bool[1, 0, 1])\n",
       " Individual(Bool[0, 0, 1], Int8[0 -1 -1; 1 1 0; 1 -1 -1], 0.0, 1.2222222222222223, Bool[0, 0, 1, 0, 1, 0], Bool[1, 0, 1])\n",
       " Individual(Bool[0, 0, 1], Int8[-1 -1 -1; 0 1 0; 0 1 -1], 0.0, 1.2222222222222223, Bool[0, 0, 1, 0, 1, 0], Bool[1, 0, 1])\n",
       " Individual(Bool[0, 0, 1], Int8[1 -1 -1; 1 -1 0; 1 -1 -1], 0.0, 1.2222222222222223, Bool[0, 0, 1, 0, 1, 0], Bool[1, 0, 1])\n",
       " Individual(Bool[0, 1, 1], Int8[1 -1 -1; 1 -1 0; 1 -1 -1], 0.0, 2.2222222222222223, Bool[0, 0, 1, 0, 1, 0], Bool[1, 1, 1])\n",
       " Individual(Bool[0, 0, 1], Int8[0 -1 -1; 1 1 -1; 0 -1 -1], 0.16666666666666666, 1.6666666666666665, Bool[0, 0, 1, 0, 0, 0], Bool[1, 1, 1])"
      ]
     },
     "metadata": {},
     "output_type": "display_data"
    }
   ],
   "source": [
    "final_pop = run_GA(X, y; cfg, target)"
   ]
  },
  {
   "cell_type": "code",
   "execution_count": 23,
   "metadata": {},
   "outputs": [
    {
     "data": {
      "text/plain": [
       "3-element Vector{Bool}:\n",
       " 0\n",
       " 0\n",
       " 1"
      ]
     },
     "metadata": {},
     "output_type": "display_data"
    },
    {
     "data": {
      "text/plain": [
       "3×3 Matrix{Int8}:\n",
       " -1  -1  -1\n",
       "  1   1   0\n",
       "  0   1  -1"
      ]
     },
     "metadata": {},
     "output_type": "display_data"
    }
   ],
   "source": [
    "best = minimum(final_pop)"
   ]
  },
  {
   "cell_type": "code",
   "execution_count": 24,
   "metadata": {},
   "outputs": [
    {
     "data": {
      "text/plain": [
       "\"~A & ~C\""
      ]
     },
     "metadata": {},
     "output_type": "display_data"
    }
   ],
   "source": [
    "to_expression(best, feature_names)"
   ]
  },
  {
   "cell_type": "markdown",
   "metadata": {},
   "source": [
    "### Synthetic dataset"
   ]
  },
  {
   "cell_type": "code",
   "execution_count": 41,
   "metadata": {},
   "outputs": [
    {
     "data": {
      "text/plain": [
       "7×45 BitMatrix:\n",
       " 0  1  1  0  0  1  1  1  0  0  0  1  1  …  1  1  0  1  0  1  0  0  1  0  1  0\n",
       " 1  1  0  1  1  1  0  0  1  1  0  1  0     0  1  1  1  0  1  0  1  1  0  0  0\n",
       " 1  1  0  1  1  0  0  0  0  1  0  0  1     0  0  1  1  0  1  0  0  0  0  0  1\n",
       " 1  1  1  1  0  1  1  0  0  0  0  1  1     0  0  0  0  0  0  0  1  1  0  0  1\n",
       " 1  0  0  0  1  1  1  0  0  0  0  0  1     1  1  1  0  1  1  0  0  1  1  1  0\n",
       " 0  0  0  0  0  1  1  0  1  1  1  0  0  …  1  0  1  0  1  1  1  1  1  1  1  1\n",
       " 1  0  0  1  0  0  0  1  0  0  1  0  0     1  1  0  1  1  0  0  1  1  0  0  1"
      ]
     },
     "metadata": {},
     "output_type": "display_data"
    },
    {
     "data": {
      "text/plain": [
       "1×45 adjoint(::BitVector) with eltype Bool:\n",
       " 1  1  1  1  1  1  1  0  0  1  0  1  1  …  0  0  1  1  0  1  0  1  1  0  0  1"
      ]
     },
     "metadata": {},
     "output_type": "display_data"
    }
   ],
   "source": [
    "# (A & B) | C\n",
    "# f(x) = (x[1] & x[2]) | (x[2] & ~x[5])\n",
    "f(x) = (x[2] & x[3]) | x[4]\n",
    "num_inputs = 7\n",
    "num_samples = 45\n",
    "X, y = generate_bool_data(f, num_inputs, num_samples)\n",
    "display.((X, y'));"
   ]
  },
  {
   "cell_type": "code",
   "execution_count": 42,
   "metadata": {},
   "outputs": [
    {
     "data": {
      "text/plain": [
       "GAConfig(100, 100, 3, 3, 2, 0.05, 0.05, 0.1, 0.1, 0.3, 0.7, 0.2, 20)"
      ]
     },
     "metadata": {},
     "output_type": "display_data"
    }
   ],
   "source": [
    "cfg = GAConfig(; num_generations=100, population_size=100, num_conjunctions=3,num_elites=3,\n",
    "    allowed_stagnation_generations=20,mut_rate=0.2, mut_rate_min=0.3,\n",
    "    mut_rate_max=0.7)"
   ]
  },
  {
   "cell_type": "code",
   "execution_count": 43,
   "metadata": {},
   "outputs": [
    {
     "name": "stdout",
     "output_type": "stream",
     "text": [
      "Running GA for y ...\n",
      "1     (0.4889, 0.9048)\n",
      "2     (0.4444, 1.2381)\n",
      "3     (0.4444, 1.2381)\n",
      "4     (0.3333, 1.4286)\n",
      "5     (0.3333, 1.4286)\n",
      "6     (0.3333, 1.0476)\n",
      "7     (0.3333, 1.0476)\n",
      "8     (0.3111, 1.2381)\n",
      "9     (0.2444, 1.4286)\n",
      "10    (0.1778, 2.3333)\n",
      "11    (0.1778, 2.2857)\n",
      "12    (0.1778, 2.2857)\n",
      "13    (0.1111, 1.2381)\n",
      "14    (0.1111, 1.2381)\n",
      "15    (0.1111, 1.2381)\n",
      "16    (0.1111, 1.2381)\n",
      "17    (0.1111, 1.2381)\n",
      "18    (0.0889, 1.0476)\n",
      "19    (0.0667, 1.4286)\n",
      "20    (0.0667, 1.4286)\n",
      "21    (0.0667, 1.4286)\n",
      "22    (0.0000, 1.2381)\n",
      "23    (0.0000, 1.2381)\n",
      "24    (0.0000, 1.2381)\n",
      "25    (0.0000, 1.2381)\n",
      "26    (0.0000, 1.2381)\n",
      "27    (0.0000, 1.2381)\n",
      "28    (0.0000, 1.2381)\n",
      "29    (0.0000, 1.2381)\n",
      "30    (0.0000, 1.2381)\n",
      "31    (0.0000, 1.2381)\n",
      "32    (0.0000, 1.2381)\n",
      "33    (0.0000, 1.2381)\n",
      "34    (0.0000, 1.2381)\n",
      "35    (0.0000, 1.2381)\n",
      "36    (0.0000, 1.2381)\n",
      "37    (0.0000, 1.2381)\n",
      "38    (0.0000, 1.2381)\n",
      "39    (0.0000, 1.2381)\n",
      "40    (0.0000, 1.2381)\n",
      "41    (0.0000, 1.2381)\n",
      "42    (0.0000, 1.2381)\n",
      "Early termination: 20 generations without improvement.\n"
     ]
    }
   ],
   "source": [
    "final_pop = run_GA(X, y; cfg);"
   ]
  },
  {
   "cell_type": "code",
   "execution_count": 44,
   "metadata": {},
   "outputs": [
    {
     "data": {
      "text/plain": [
       "\"(x2 & x3) | (x4)\""
      ]
     },
     "metadata": {},
     "output_type": "display_data"
    }
   ],
   "source": [
    "best = minimum(final_pop)\n",
    "to_expression(best)"
   ]
  },
  {
   "cell_type": "code",
   "execution_count": 45,
   "metadata": {},
   "outputs": [
    {
     "data": {
      "text/plain": [
       "(x2 & x3) | x4"
      ]
     },
     "metadata": {},
     "output_type": "display_data"
    }
   ],
   "source": [
    "to_simplified_expression(best)"
   ]
  },
  {
   "cell_type": "code",
   "execution_count": 47,
   "metadata": {},
   "outputs": [
    {
     "data": {
      "text/plain": [
       "(0.0, 1.238095238095238)"
      ]
     },
     "metadata": {},
     "output_type": "display_data"
    }
   ],
   "source": [
    "get_fitness(best)"
   ]
  },
  {
   "cell_type": "code",
   "execution_count": 48,
   "metadata": {},
   "outputs": [],
   "source": []
  }
 ],
 "metadata": {
  "kernelspec": {
   "display_name": "Julia 1.10.4",
   "language": "julia",
   "name": "julia-1.10"
  },
  "language_info": {
   "file_extension": ".jl",
   "mimetype": "application/julia",
   "name": "julia",
   "version": "1.10.4"
  }
 },
 "nbformat": 4,
 "nbformat_minor": 2
}
