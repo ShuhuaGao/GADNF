{
 "cells": [
  {
   "cell_type": "markdown",
   "metadata": {},
   "source": [
    "# E-coli 8 synthetic dataset"
   ]
  },
  {
   "cell_type": "code",
   "execution_count": 1,
   "metadata": {},
   "outputs": [],
   "source": [
    "using CSV, DataFrames\n",
    "using Random\n",
    "using Revise, GADNF"
   ]
  },
  {
   "cell_type": "markdown",
   "metadata": {},
   "source": [
    "## Load data"
   ]
  },
  {
   "cell_type": "code",
   "execution_count": 2,
   "metadata": {},
   "outputs": [
    {
     "data": {
      "text/plain": [
       "\"./processed_dataset/glyU_processed_dataset.tsv\""
      ]
     },
     "metadata": {},
     "output_type": "display_data"
    }
   ],
   "source": [
    "data_dir = \"./processed_dataset/\"\n",
    "tsv_file = joinpath(data_dir, \"glyU_processed_dataset.tsv\")"
   ]
  },
  {
   "cell_type": "code",
   "execution_count": 3,
   "metadata": {},
   "outputs": [
    {
     "data": {
      "text/html": [
       "<div><div style = \"float: left;\"><span>5×6 DataFrame</span></div><div style = \"clear: both;\"></div></div><div class = \"data-frame\" style = \"overflow-x: scroll;\"><table class = \"data-frame\" style = \"margin-bottom: 6px;\"><thead><tr class = \"header\"><th class = \"rowNumber\" style = \"font-weight: bold; text-align: right;\">Row</th><th style = \"text-align: left;\">fis</th><th style = \"text-align: left;\">tyrU</th><th style = \"text-align: left;\">pheU</th><th style = \"text-align: left;\">cspI</th><th style = \"text-align: left;\">serX</th><th style = \"text-align: left;\">glyU</th></tr><tr class = \"subheader headerLastRow\"><th class = \"rowNumber\" style = \"font-weight: bold; text-align: right;\"></th><th title = \"Int64\" style = \"text-align: left;\">Int64</th><th title = \"Int64\" style = \"text-align: left;\">Int64</th><th title = \"Int64\" style = \"text-align: left;\">Int64</th><th title = \"Int64\" style = \"text-align: left;\">Int64</th><th title = \"Int64\" style = \"text-align: left;\">Int64</th><th title = \"Int64\" style = \"text-align: left;\">Int64</th></tr></thead><tbody><tr><td class = \"rowNumber\" style = \"font-weight: bold; text-align: right;\">1</td><td style = \"text-align: right;\">0</td><td style = \"text-align: right;\">1</td><td style = \"text-align: right;\">0</td><td style = \"text-align: right;\">0</td><td style = \"text-align: right;\">0</td><td style = \"text-align: right;\">0</td></tr><tr><td class = \"rowNumber\" style = \"font-weight: bold; text-align: right;\">2</td><td style = \"text-align: right;\">0</td><td style = \"text-align: right;\">0</td><td style = \"text-align: right;\">1</td><td style = \"text-align: right;\">0</td><td style = \"text-align: right;\">0</td><td style = \"text-align: right;\">1</td></tr><tr><td class = \"rowNumber\" style = \"font-weight: bold; text-align: right;\">3</td><td style = \"text-align: right;\">0</td><td style = \"text-align: right;\">0</td><td style = \"text-align: right;\">0</td><td style = \"text-align: right;\">0</td><td style = \"text-align: right;\">0</td><td style = \"text-align: right;\">1</td></tr><tr><td class = \"rowNumber\" style = \"font-weight: bold; text-align: right;\">4</td><td style = \"text-align: right;\">0</td><td style = \"text-align: right;\">1</td><td style = \"text-align: right;\">0</td><td style = \"text-align: right;\">0</td><td style = \"text-align: right;\">0</td><td style = \"text-align: right;\">0</td></tr><tr><td class = \"rowNumber\" style = \"font-weight: bold; text-align: right;\">5</td><td style = \"text-align: right;\">0</td><td style = \"text-align: right;\">0</td><td style = \"text-align: right;\">0</td><td style = \"text-align: right;\">0</td><td style = \"text-align: right;\">0</td><td style = \"text-align: right;\">1</td></tr></tbody></table></div>"
      ],
      "text/latex": [
       "\\begin{tabular}{r|cccccc}\n",
       "\t& fis & tyrU & pheU & cspI & serX & glyU\\\\\n",
       "\t\\hline\n",
       "\t& Int64 & Int64 & Int64 & Int64 & Int64 & Int64\\\\\n",
       "\t\\hline\n",
       "\t1 & 0 & 1 & 0 & 0 & 0 & 0 \\\\\n",
       "\t2 & 0 & 0 & 1 & 0 & 0 & 1 \\\\\n",
       "\t3 & 0 & 0 & 0 & 0 & 0 & 1 \\\\\n",
       "\t4 & 0 & 1 & 0 & 0 & 0 & 0 \\\\\n",
       "\t5 & 0 & 0 & 0 & 0 & 0 & 1 \\\\\n",
       "\\end{tabular}\n"
      ],
      "text/plain": [
       "\u001b[1m5×6 DataFrame\u001b[0m\n",
       "\u001b[1m Row \u001b[0m│\u001b[1m fis   \u001b[0m\u001b[1m tyrU  \u001b[0m\u001b[1m pheU  \u001b[0m\u001b[1m cspI  \u001b[0m\u001b[1m serX  \u001b[0m\u001b[1m glyU  \u001b[0m\n",
       "     │\u001b[90m Int64 \u001b[0m\u001b[90m Int64 \u001b[0m\u001b[90m Int64 \u001b[0m\u001b[90m Int64 \u001b[0m\u001b[90m Int64 \u001b[0m\u001b[90m Int64 \u001b[0m\n",
       "─────┼──────────────────────────────────────────\n",
       "   1 │     0      1      0      0      0      0\n",
       "   2 │     0      0      1      0      0      1\n",
       "   3 │     0      0      0      0      0      1\n",
       "   4 │     0      1      0      0      0      0\n",
       "   5 │     0      0      0      0      0      1"
      ]
     },
     "metadata": {},
     "output_type": "display_data"
    }
   ],
   "source": [
    "data = CSV.read(tsv_file, DataFrame)\n",
    "first(data, 5)"
   ]
  },
  {
   "cell_type": "code",
   "execution_count": 4,
   "metadata": {},
   "outputs": [
    {
     "data": {
      "text/plain": [
       "5-element Vector{String}:\n",
       " \"fis\"\n",
       " \"tyrU\"\n",
       " \"pheU\"\n",
       " \"cspI\"\n",
       " \"serX\""
      ]
     },
     "metadata": {},
     "output_type": "display_data"
    }
   ],
   "source": [
    "target = names(data)[end]\n",
    "features = names(data)[1:end-1]"
   ]
  },
  {
   "cell_type": "code",
   "execution_count": 5,
   "metadata": {},
   "outputs": [],
   "source": [
    "X = data[!, 1:end-1] |> Array |> transpose |> BitMatrix\n",
    "y = data[!, end] |> BitVector\n",
    ";"
   ]
  },
  {
   "cell_type": "markdown",
   "metadata": {},
   "source": [
    "## Run GA"
   ]
  },
  {
   "cell_type": "code",
   "execution_count": 18,
   "metadata": {},
   "outputs": [
    {
     "data": {
      "text/plain": [
       "GAConfig(100, 200, 1, 3, 2, 0.1, 0.05, 0.1, 0.1, 0.3, 0.7, 0.2, 5000)"
      ]
     },
     "metadata": {},
     "output_type": "display_data"
    }
   ],
   "source": [
    "cfg = GAConfig(; num_generations=100, population_size=200, num_conjunctions=3,\n",
    "    num_elites=1,\n",
    "    allowed_stagnation_generations=5000,\n",
    "    mut_rate_min=0.3,\n",
    "    mut_rate_max=0.7,\n",
    "    CN_subtree_cx_rate=0.1,\n",
    "    mut_rate=0.2)"
   ]
  },
  {
   "cell_type": "code",
   "execution_count": 19,
   "metadata": {},
   "outputs": [
    {
     "data": {
      "text/plain": [
       "(5, 200)"
      ]
     },
     "metadata": {},
     "output_type": "display_data"
    }
   ],
   "source": [
    "size(X)"
   ]
  },
  {
   "cell_type": "code",
   "execution_count": 26,
   "metadata": {},
   "outputs": [
    {
     "name": "stdout",
     "output_type": "stream",
     "text": [
      "Running GA for glyU ...\n",
      "Gen   Error    Complexity\n",
      "1     (0.3300, 2.7333)\n",
      "2     (0.3000, 2.4000)\n",
      "3     (0.3000, 2.4000)\n",
      "4     (0.2800, 2.4667)\n",
      "5     (0.2800, 2.4667)\n",
      "6     (0.2800, 2.4667)\n",
      "7     (0.2800, 2.4667)\n",
      "8     (0.2400, 2.6000)\n",
      "9     (0.2400, 2.6000)\n",
      "10    (0.2400, 2.6000)\n",
      "11    (0.2400, 2.6000)\n",
      "12    (0.2400, 2.6000)\n",
      "13    (0.2400, 2.6000)\n",
      "14    (0.2400, 2.6000)\n",
      "15    (0.2400, 2.6000)\n",
      "16    (0.2400, 2.6000)\n",
      "17    (0.2400, 2.6000)\n",
      "18    (0.2400, 2.6000)\n",
      "19    (0.2350, 2.6667)\n",
      "20    (0.2350, 2.6667)\n",
      "21    (0.2350, 2.6667)\n",
      "22    (0.2350, 2.6667)\n",
      "23    (0.2350, 2.6667)\n",
      "24    (0.2350, 2.6667)\n",
      "25    (0.2350, 2.6667)\n",
      "26    (0.2350, 2.6667)\n",
      "27    (0.2350, 2.6667)\n",
      "28    (0.2350, 2.6667)\n",
      "29    (0.2350, 2.6667)\n",
      "30    (0.2350, 2.6667)\n",
      "31    (0.2350, 2.6667)\n",
      "32    (0.2350, 2.6667)\n",
      "33    (0.2350, 2.6667)\n",
      "34    (0.2350, 2.6667)\n",
      "35    (0.2350, 2.6667)\n",
      "36    (0.2350, 2.6667)\n",
      "37    (0.2350, 2.6667)\n",
      "38    (0.2350, 2.6667)\n",
      "39    (0.2350, 2.6667)\n",
      "40    (0.2350, 2.6667)\n",
      "41    (0.2350, 2.6667)\n",
      "42    (0.2350, 2.6667)\n",
      "43    (0.2350, 2.6667)\n",
      "44    (0.2350, 2.6667)\n",
      "45    (0.2350, 2.6667)\n",
      "46    (0.2350, 2.6667)\n",
      "47    (0.2350, 2.6667)\n",
      "48    (0.2350, 2.6667)\n",
      "49    (0.2350, 2.6667)\n",
      "50    (0.2350, 2.6667)\n",
      "51    (0.2350, 2.6667)\n",
      "52    (0.2350, 2.6667)\n",
      "53    (0.2350, 2.6667)\n",
      "54    (0.2350, 2.6667)\n",
      "55    (0.2350, 2.6667)\n",
      "56    (0.2350, 2.6667)\n",
      "57    (0.2350, 2.6667)\n",
      "58    (0.2350, 2.6667)\n",
      "59    (0.2350, 2.6667)\n",
      "60    (0.2350, 2.6667)\n",
      "61    (0.2350, 2.6667)\n",
      "62    (0.2350, 2.6667)\n",
      "63    (0.2350, 2.6667)\n",
      "64    (0.2350, 2.6667)\n",
      "65    (0.2350, 2.6667)\n",
      "66    (0.2350, 2.6667)\n",
      "67    (0.2350, 2.6667)\n",
      "68    (0.2350, 2.6667)\n",
      "69    (0.2350, 2.6667)\n",
      "70    (0.2350, 2.6667)\n",
      "71    (0.2350, 2.6667)\n",
      "72    (0.2350, 2.6667)\n",
      "73    (0.2350, 2.6667)\n",
      "74    (0.2350, 2.6667)\n",
      "75    (0.2350, 2.6667)\n",
      "76    (0.2350, 2.6667)\n",
      "77    (0.2350, 2.6667)\n",
      "78    (0.2350, 2.6667)\n",
      "79    (0.2350, 2.6667)\n",
      "80    (0.2350, 2.6667)\n",
      "81    (0.2350, 2.6667)\n",
      "82    (0.2350, 2.6667)\n",
      "83    (0.2350, 2.6667)\n",
      "84    (0.2350, 2.6667)\n",
      "85    (0.2350, 2.6667)\n",
      "86    (0.2350, 2.6667)\n",
      "87    (0.2350, 2.6667)\n",
      "88    (0.2350, 2.6667)\n",
      "89    (0.2350, 2.6667)\n",
      "90    (0.2350, 2.6667)\n",
      "91    (0.2350, 2.6667)\n",
      "92    (0.2350, 2.6667)\n",
      "93    (0.2350, 2.6667)\n",
      "94    (0.2350, 2.6667)\n",
      "95    (0.2350, 2.6667)\n",
      "96    (0.2350, 2.6667)\n",
      "97    (0.2350, 2.6667)\n",
      "98    (0.2350, 2.6667)\n",
      "99    (0.2350, 2.6667)\n",
      "100   (0.2350, 2.6667)\n",
      "  0.294514 seconds (299.14 k allocations: 19.982 MiB, 10.87% gc time, 50.09% compilation time)\n"
     ]
    }
   ],
   "source": [
    "@time final_pop = run_GA(X, y; cfg, target, features);"
   ]
  },
  {
   "cell_type": "code",
   "execution_count": 27,
   "metadata": {},
   "outputs": [
    {
     "data": {
      "text/plain": [
       "\"(~fis & ~pheU & serX) | (~tyrU & ~cspI & ~serX) | (fis & tyrU & ~pheU & ~cspI)\""
      ]
     },
     "metadata": {},
     "output_type": "display_data"
    }
   ],
   "source": [
    "best = minimum(final_pop)\n",
    "to_expression(best, features)"
   ]
  }
 ],
 "metadata": {
  "kernelspec": {
   "display_name": "Julia 1.10.4",
   "language": "julia",
   "name": "julia-1.10"
  },
  "language_info": {
   "file_extension": ".jl",
   "mimetype": "application/julia",
   "name": "julia",
   "version": "1.10.4"
  }
 },
 "nbformat": 4,
 "nbformat_minor": 2
}
