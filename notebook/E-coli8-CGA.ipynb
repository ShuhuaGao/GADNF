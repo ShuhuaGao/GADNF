{
 "cells": [
  {
   "cell_type": "markdown",
   "metadata": {},
   "source": [
    "# E-coli 8 synthetic dataset test with CGA"
   ]
  },
  {
   "cell_type": "code",
   "execution_count": 1,
   "metadata": {},
   "outputs": [],
   "source": [
    "using CSV, DataFrames\n",
    "using Random\n",
    "using Revise, GADNF"
   ]
  },
  {
   "cell_type": "markdown",
   "metadata": {},
   "source": [
    "## Load data"
   ]
  },
  {
   "cell_type": "code",
   "execution_count": 2,
   "metadata": {},
   "outputs": [
    {
     "data": {
      "text/plain": [
       "\"./processed_dataset/glnX_processed_dataset.tsv\""
      ]
     },
     "metadata": {},
     "output_type": "display_data"
    }
   ],
   "source": [
    "target = \"glnX\"\n",
    "data_dir = \"./processed_dataset/\"\n",
    "tsv_file = joinpath(data_dir, \"$(target)_processed_dataset.tsv\")"
   ]
  },
  {
   "cell_type": "code",
   "execution_count": 3,
   "metadata": {},
   "outputs": [
    {
     "data": {
      "text/html": [
       "<div><div style = \"float: left;\"><span>5×6 DataFrame</span></div><div style = \"clear: both;\"></div></div><div class = \"data-frame\" style = \"overflow-x: scroll;\"><table class = \"data-frame\" style = \"margin-bottom: 6px;\"><thead><tr class = \"header\"><th class = \"rowNumber\" style = \"font-weight: bold; text-align: right;\">Row</th><th style = \"text-align: left;\">glnV</th><th style = \"text-align: left;\">pheV</th><th style = \"text-align: left;\">apaG</th><th style = \"text-align: left;\">lysW</th><th style = \"text-align: left;\">lysV</th><th style = \"text-align: left;\">glnX</th></tr><tr class = \"subheader headerLastRow\"><th class = \"rowNumber\" style = \"font-weight: bold; text-align: right;\"></th><th title = \"Int64\" style = \"text-align: left;\">Int64</th><th title = \"Int64\" style = \"text-align: left;\">Int64</th><th title = \"Int64\" style = \"text-align: left;\">Int64</th><th title = \"Int64\" style = \"text-align: left;\">Int64</th><th title = \"Int64\" style = \"text-align: left;\">Int64</th><th title = \"Int64\" style = \"text-align: left;\">Int64</th></tr></thead><tbody><tr><td class = \"rowNumber\" style = \"font-weight: bold; text-align: right;\">1</td><td style = \"text-align: right;\">0</td><td style = \"text-align: right;\">1</td><td style = \"text-align: right;\">0</td><td style = \"text-align: right;\">0</td><td style = \"text-align: right;\">1</td><td style = \"text-align: right;\">0</td></tr><tr><td class = \"rowNumber\" style = \"font-weight: bold; text-align: right;\">2</td><td style = \"text-align: right;\">1</td><td style = \"text-align: right;\">0</td><td style = \"text-align: right;\">1</td><td style = \"text-align: right;\">0</td><td style = \"text-align: right;\">0</td><td style = \"text-align: right;\">0</td></tr><tr><td class = \"rowNumber\" style = \"font-weight: bold; text-align: right;\">3</td><td style = \"text-align: right;\">0</td><td style = \"text-align: right;\">0</td><td style = \"text-align: right;\">0</td><td style = \"text-align: right;\">0</td><td style = \"text-align: right;\">0</td><td style = \"text-align: right;\">1</td></tr><tr><td class = \"rowNumber\" style = \"font-weight: bold; text-align: right;\">4</td><td style = \"text-align: right;\">0</td><td style = \"text-align: right;\">0</td><td style = \"text-align: right;\">0</td><td style = \"text-align: right;\">1</td><td style = \"text-align: right;\">0</td><td style = \"text-align: right;\">1</td></tr><tr><td class = \"rowNumber\" style = \"font-weight: bold; text-align: right;\">5</td><td style = \"text-align: right;\">0</td><td style = \"text-align: right;\">1</td><td style = \"text-align: right;\">1</td><td style = \"text-align: right;\">1</td><td style = \"text-align: right;\">0</td><td style = \"text-align: right;\">0</td></tr></tbody></table></div>"
      ],
      "text/latex": [
       "\\begin{tabular}{r|cccccc}\n",
       "\t& glnV & pheV & apaG & lysW & lysV & glnX\\\\\n",
       "\t\\hline\n",
       "\t& Int64 & Int64 & Int64 & Int64 & Int64 & Int64\\\\\n",
       "\t\\hline\n",
       "\t1 & 0 & 1 & 0 & 0 & 1 & 0 \\\\\n",
       "\t2 & 1 & 0 & 1 & 0 & 0 & 0 \\\\\n",
       "\t3 & 0 & 0 & 0 & 0 & 0 & 1 \\\\\n",
       "\t4 & 0 & 0 & 0 & 1 & 0 & 1 \\\\\n",
       "\t5 & 0 & 1 & 1 & 1 & 0 & 0 \\\\\n",
       "\\end{tabular}\n"
      ],
      "text/plain": [
       "\u001b[1m5×6 DataFrame\u001b[0m\n",
       "\u001b[1m Row \u001b[0m│\u001b[1m glnV  \u001b[0m\u001b[1m pheV  \u001b[0m\u001b[1m apaG  \u001b[0m\u001b[1m lysW  \u001b[0m\u001b[1m lysV  \u001b[0m\u001b[1m glnX  \u001b[0m\n",
       "     │\u001b[90m Int64 \u001b[0m\u001b[90m Int64 \u001b[0m\u001b[90m Int64 \u001b[0m\u001b[90m Int64 \u001b[0m\u001b[90m Int64 \u001b[0m\u001b[90m Int64 \u001b[0m\n",
       "─────┼──────────────────────────────────────────\n",
       "   1 │     0      1      0      0      1      0\n",
       "   2 │     1      0      1      0      0      0\n",
       "   3 │     0      0      0      0      0      1\n",
       "   4 │     0      0      0      1      0      1\n",
       "   5 │     0      1      1      1      0      0"
      ]
     },
     "metadata": {},
     "output_type": "display_data"
    }
   ],
   "source": [
    "data = CSV.read(tsv_file, DataFrame)\n",
    "first(data, 5)"
   ]
  },
  {
   "cell_type": "code",
   "execution_count": 4,
   "metadata": {},
   "outputs": [
    {
     "data": {
      "text/plain": [
       "5-element Vector{String}:\n",
       " \"glnV\"\n",
       " \"pheV\"\n",
       " \"apaG\"\n",
       " \"lysW\"\n",
       " \"lysV\""
      ]
     },
     "metadata": {},
     "output_type": "display_data"
    }
   ],
   "source": [
    "target = names(data)[end]\n",
    "features = names(data)[1:end-1]"
   ]
  },
  {
   "cell_type": "code",
   "execution_count": 5,
   "metadata": {},
   "outputs": [],
   "source": [
    "X = data[!, 1:end-1] |> Array |> transpose |> BitMatrix\n",
    "y = data[!, end] |> BitVector\n",
    ";"
   ]
  },
  {
   "cell_type": "markdown",
   "metadata": {},
   "source": [
    "## Run GA"
   ]
  },
  {
   "cell_type": "code",
   "execution_count": 13,
   "metadata": {},
   "outputs": [
    {
     "data": {
      "text/plain": [
       "GAConfig(500, 200, 1, 3, 2, 0.1, 0.05, 0.1, 0.1, 0.3, 0.7, 0.3, 50, false)"
      ]
     },
     "metadata": {},
     "output_type": "display_data"
    }
   ],
   "source": [
    "cfg = GAConfig(; num_generations=500, population_size=200, num_conjunctions=3,\n",
    "    num_elites=1,\n",
    "    allowed_stagnation_generations=50,\n",
    "    CN_subtree_cx_rate=0.1,\n",
    "    edge_cx_rate=0.05,\n",
    "    mut_rate_min=0.3,\n",
    "    mut_rate_max=0.7,\n",
    "    mut_rate=0.3,\n",
    "    probabilistic_replacement=false)"
   ]
  },
  {
   "cell_type": "markdown",
   "metadata": {},
   "source": [
    "### Standard GA"
   ]
  },
  {
   "cell_type": "code",
   "execution_count": 30,
   "metadata": {},
   "outputs": [
    {
     "name": "stdout",
     "output_type": "stream",
     "text": [
      "Running GA for glnX ...\n",
      "Gen   Error    Complexity\n",
      "1     (0.3100, 0.2000)\n",
      "2     (0.3100, 0.2000)\n",
      "3     (0.3100, 0.2000)\n",
      "4     (0.3100, 0.2000)\n",
      "5     (0.3100, 0.2000)\n",
      "6     (0.3100, 0.2000)\n",
      "7     (0.3100, 0.2000)\n",
      "8     (0.3100, 0.2000)\n",
      "9     (0.3100, 0.2000)\n",
      "10    (0.3100, 0.2000)\n",
      "11    (0.3100, 0.2000)\n",
      "12    (0.3100, 0.2000)\n",
      "13    (0.3100, 0.2000)\n",
      "14    (0.3100, 0.2000)\n",
      "15    (0.3100, 0.2000)\n",
      "16    (0.4600, 0.0000)\n",
      "17    (0.3100, 0.2000)\n",
      "18    (0.3100, 0.2000)\n",
      "19    (0.3100, 0.2000)\n",
      "20    (0.3100, 0.2000)\n",
      "21    (0.3100, 0.2000)\n",
      "22    (0.3100, 0.2000)\n",
      "23    (0.3100, 0.2000)\n",
      "24    (0.3100, 0.2000)\n",
      "25    (0.3100, 0.2000)\n",
      "26    (0.3100, 0.2000)\n",
      "27    (0.3100, 0.2000)\n",
      "28    (0.3100, 0.2000)\n",
      "29    (0.3100, 0.2000)\n",
      "30    (0.3100, 0.2000)\n",
      "31    (0.3100, 0.2000)\n",
      "32    (0.3100, 0.2000)\n",
      "33    (0.3100, 0.2000)\n",
      "34    (0.3100, 0.2000)\n",
      "35    (0.3100, 0.2000)\n",
      "36    (0.3100, 0.2000)\n",
      "37    (0.3100, 0.2000)\n",
      "38    (0.3100, 0.2000)\n",
      "39    (0.3100, 0.2000)\n",
      "40    (0.3100, 0.2000)\n",
      "41    (0.3100, 0.2000)\n",
      "42    (0.3100, 0.2000)\n",
      "43    (0.3100, 0.2000)\n",
      "44    (0.3100, 0.2000)\n",
      "45    (0.3100, 0.2000)\n",
      "46    (0.3100, 0.2000)\n",
      "47    (0.3100, 0.2000)\n",
      "48    (0.3100, 0.2000)\n",
      "49    (0.3100, 0.2000)\n",
      "50    (0.3100, 0.2000)\n",
      "51    (0.4600, 0.0000)\n",
      "52    (0.3100, 0.2000)\n",
      "53    (0.3100, 0.2000)\n",
      "54    (0.3100, 0.2000)\n",
      "55    (0.4600, 0.0000)\n",
      "56    (0.3100, 0.2000)\n",
      "57    (0.3100, 0.2000)\n",
      "58    (0.3100, 0.2000)\n",
      "59    (0.3100, 0.2000)\n",
      "60    (0.4600, 0.0000)\n",
      "61    (0.3100, 0.2000)\n",
      "62    (0.3100, 0.2000)\n",
      "63    (0.3100, 0.2000)\n",
      "64    (0.3100, 0.2000)\n",
      "65    (0.3100, 0.2000)\n",
      "66    (0.3100, 0.2000)\n",
      "67    (0.3100, 0.2000)\n",
      "68    (0.3100, 0.2000)\n",
      "69    (0.3100, 0.2000)\n",
      "70    (0.3100, 0.2000)\n",
      "71    (0.3100, 0.2000)\n",
      "72    (0.3100, 0.2000)\n",
      "73    (0.3100, 0.2000)\n",
      "74    (0.3100, 0.2000)\n",
      "75    (0.3100, 0.2000)\n",
      "76    (0.3100, 0.2000)\n",
      "77    (0.3100, 0.2000)\n",
      "78    (0.3100, 0.2000)\n",
      "79    (0.3100, 0.2000)\n",
      "80    (0.3100, 0.2000)\n",
      "81    (0.3100, 0.2000)\n",
      "82    (0.3100, 0.2000)\n",
      "83    (0.3100, 0.2000)\n",
      "84    (0.3100, 0.2000)\n",
      "85    (0.3100, 0.2000)\n",
      "86    (0.3100, 0.2000)\n",
      "87    (0.3100, 0.2000)\n",
      "88    (0.3100, 0.2000)\n",
      "89    (0.3100, 0.2000)\n",
      "90    (0.3100, 0.2000)\n",
      "91    (0.3100, 0.2000)\n",
      "92    (0.3100, 0.2000)\n",
      "93    (0.3100, 0.2000)\n",
      "94    (0.3100, 0.2000)\n",
      "95    (0.3100, 0.2000)\n",
      "96    (0.3100, 0.2000)\n",
      "97    (0.3100, 0.2000)\n",
      "98    (0.4600, 0.0000)\n",
      "99    (0.4600, 0.0000)\n",
      "100   (0.3100, 0.2000)\n",
      "101   (0.3100, 0.2000)\n",
      "102   (0.3100, 0.2000)\n",
      "103   (0.3100, 0.2000)\n",
      "104   (0.3100, 0.2000)\n",
      "105   (0.3100, 0.2000)\n",
      "106   (0.3100, 0.2000)\n",
      "107   (0.3100, 0.2000)\n",
      "108   (0.3100, 0.2000)\n",
      "109   (0.3100, 0.2000)\n",
      "110   (0.3100, 0.2000)\n",
      "111   (0.2400, 0.4000)\n",
      "112   (0.3100, 0.2000)\n",
      "113   (0.4600, 0.0000)\n",
      "114   (0.3100, 0.2000)\n",
      "115   (0.3100, 0.2000)\n",
      "116   (0.3100, 0.2000)\n",
      "117   (0.3100, 0.2000)\n",
      "118   (0.3100, 0.2000)\n",
      "119   (0.3100, 0.2000)\n",
      "120   (0.3100, 0.2000)\n",
      "121   (0.3100, 0.2000)\n",
      "122   (0.3100, 0.2000)\n",
      "123   (0.3100, 0.2000)\n",
      "124   (0.3100, 0.2000)\n",
      "125   (0.3100, 0.2000)\n",
      "126   (0.3100, 0.2000)\n",
      "127   (0.3100, 0.2000)\n",
      "128   (0.3100, 0.2000)\n",
      "129   (0.3100, 0.2000)\n",
      "130   (0.3100, 0.2000)\n",
      "131   (0.3100, 0.2000)\n",
      "132   (0.3100, 0.2000)\n",
      "133   (0.3100, 0.2000)\n",
      "134   (0.3100, 0.2000)\n",
      "135   (0.3100, 0.2000)\n",
      "136   (0.3100, 0.2000)\n",
      "137   (0.3100, 0.2000)\n",
      "138   (0.3100, 0.2000)\n",
      "139   (0.3100, 0.2000)\n",
      "140   (0.4600, 0.0000)\n",
      "141   (0.3100, 0.2000)\n",
      "142   (0.3100, 0.2000)\n",
      "143   (0.4600, 0.0000)\n",
      "144   (0.3100, 0.2000)\n",
      "145   (0.3100, 0.2000)\n",
      "146   (0.3100, 0.2000)\n",
      "147   (0.3100, 0.2000)\n",
      "148   (0.3100, 0.2000)\n",
      "149   (0.2400, 0.4000)\n",
      "150   (0.3100, 0.2000)\n",
      "151   (0.3100, 0.2000)\n",
      "152   (0.3100, 0.2000)\n",
      "153   (0.3100, 0.2000)\n",
      "154   (0.3100, 0.2000)\n",
      "155   (0.3100, 0.2000)\n",
      "156   (0.3100, 0.2000)\n",
      "157   (0.3100, 0.2000)\n",
      "158   (0.3100, 0.2000)\n",
      "159   (0.3100, 0.2000)\n",
      "160   (0.3100, 0.2000)\n",
      "161   (0.3100, 0.2000)\n",
      "162   (0.3100, 0.2000)\n",
      "163   (0.3100, 0.2000)\n",
      "164   (0.3100, 0.2000)\n",
      "165   (0.3100, 0.2000)\n",
      "166   (0.3100, 0.2000)\n",
      "167   (0.3100, 0.2000)\n",
      "168   (0.3100, 0.2000)\n",
      "169   (0.3100, 0.2000)\n",
      "170   (0.4600, 0.0000)\n",
      "171   (0.3100, 0.2000)\n",
      "172   (0.3100, 0.2000)\n",
      "173   (0.3100, 0.2000)\n",
      "174   (0.3100, 0.2000)\n",
      "175   (0.3100, 0.2000)\n",
      "176   (0.3100, 0.2000)\n",
      "177   (0.3100, 0.2000)\n",
      "178   (0.3100, 0.2000)\n",
      "179   (0.4600, 0.0000)\n",
      "180   (0.3100, 0.2000)\n",
      "181   (0.3100, 0.2000)\n",
      "182   (0.3100, 0.2000)\n",
      "183   (0.3100, 0.2000)\n",
      "184   (0.3100, 0.2000)\n",
      "185   (0.3100, 0.2000)\n",
      "186   (0.3100, 0.2000)\n",
      "187   (0.3100, 0.2000)\n",
      "188   (0.3100, 0.2000)\n",
      "189   (0.3100, 0.2000)\n",
      "190   (0.3100, 0.2000)\n",
      "191   (0.3100, 0.2000)\n",
      "192   (0.3100, 0.2000)\n",
      "193   (0.3100, 0.2000)\n",
      "194   (0.3100, 0.2000)\n",
      "195   (0.3100, 0.2000)\n",
      "196   (0.3100, 0.2000)\n",
      "197   (0.3100, 0.2000)\n",
      "198   (0.3100, 0.2000)\n",
      "199   (0.3100, 0.2000)\n",
      "200   (0.3100, 0.2000)\n",
      "201   (0.3100, 0.2000)\n",
      "202   (0.3100, 0.2000)\n",
      "203   (0.3100, 0.2000)\n",
      "204   (0.3100, 0.2000)\n",
      "205   (0.3100, 0.2000)\n",
      "206   (0.3100, 0.2000)\n",
      "207   (0.3100, 0.2000)\n",
      "208   (0.3100, 0.2000)\n",
      "209   (0.3100, 0.2000)\n",
      "210   (0.3100, 0.2000)\n",
      "211   (0.3100, 0.2000)\n",
      "212   (0.3100, 0.2000)\n",
      "213   (0.3100, 0.2000)\n",
      "214   (0.3100, 0.2000)\n",
      "215   (0.3100, 0.2000)\n",
      "216   (0.3100, 0.2000)\n",
      "217   (0.3100, 0.2000)\n",
      "218   (0.3100, 0.2000)\n",
      "219   (0.3100, 0.2000)\n",
      "220   (0.3100, 0.2000)\n",
      "221   (0.3100, 0.2000)\n",
      "222   (0.3100, 0.2000)\n",
      "223   (0.3100, 0.2000)\n",
      "224   (0.2400, 0.4000)\n",
      "225   (0.2400, 0.4000)\n",
      "226   (0.3100, 0.2000)\n",
      "227   (0.3100, 0.2000)\n",
      "228   (0.3100, 0.2000)\n",
      "229   (0.4600, 0.0000)\n",
      "230   (0.4600, 0.0000)\n",
      "231   (0.3100, 0.2000)\n",
      "232   (0.3100, 0.2000)\n",
      "233   (0.3100, 0.2000)\n",
      "234   (0.3100, 0.2000)\n",
      "235   (0.3100, 0.2000)\n",
      "236   (0.3100, 0.2000)\n",
      "237   (0.3100, 0.2000)\n",
      "238   (0.3100, 0.2000)\n",
      "239   (0.3100, 0.2000)\n",
      "240   (0.3100, 0.2000)\n",
      "241   (0.3100, 0.2000)\n",
      "242   (0.3100, 0.2000)\n",
      "243   (0.3100, 0.2000)\n",
      "244   (0.3100, 0.2000)\n",
      "245   (0.3100, 0.2000)\n",
      "246   (0.3100, 0.2000)\n",
      "247   (0.3100, 0.2000)\n",
      "248   (0.3100, 0.2000)\n",
      "249   (0.3100, 0.2000)\n",
      "250   (0.3100, 0.2000)\n",
      "251   (0.3100, 0.2000)\n",
      "252   (0.3100, 0.2000)\n",
      "253   (0.3100, 0.2000)\n",
      "254   (0.3100, 0.2000)\n",
      "255   (0.3100, 0.2000)\n",
      "256   (0.3100, 0.2000)\n",
      "257   (0.3100, 0.2000)\n",
      "258   (0.3100, 0.2000)\n",
      "259   (0.3100, 0.2000)\n",
      "260   (0.3100, 0.2000)\n",
      "261   (0.4600, 0.0000)\n",
      "262   (0.3100, 0.2000)\n",
      "263   (0.3100, 0.2000)\n",
      "264   (0.3100, 0.2000)\n",
      "265   (0.3100, 0.2000)\n",
      "266   (0.4600, 0.0000)\n",
      "267   (0.3100, 0.2000)\n",
      "268   (0.3100, 0.2000)\n",
      "269   (0.3100, 0.2000)\n",
      "270   (0.3100, 0.2000)\n",
      "271   (0.3100, 0.2000)\n",
      "272   (0.3100, 0.2000)\n",
      "273   (0.3100, 0.2000)\n",
      "274   (0.3100, 0.2000)\n",
      "275   (0.3100, 0.2000)\n",
      "276   (0.3100, 0.2000)\n",
      "277   (0.3100, 0.2000)\n",
      "278   (0.3100, 0.2000)\n",
      "279   (0.4600, 0.0000)\n",
      "280   (0.3100, 0.2000)\n",
      "281   (0.3100, 0.2000)\n",
      "282   (0.2400, 0.4000)\n",
      "283   (0.3100, 0.2000)\n",
      "284   (0.3100, 0.2000)\n",
      "285   (0.3100, 0.2000)\n",
      "286   (0.3100, 0.2000)\n",
      "287   (0.3100, 0.2000)\n",
      "288   (0.3100, 0.2000)\n",
      "289   (0.3100, 0.2000)\n",
      "290   (0.3100, 0.2000)\n",
      "291   (0.3100, 0.2000)\n",
      "292   (0.3100, 0.2000)\n",
      "293   (0.4600, 0.0000)\n",
      "294   (0.3100, 0.2000)\n",
      "295   (0.3100, 0.2000)\n",
      "296   (0.3100, 0.2000)\n",
      "297   (0.4600, 0.0000)\n",
      "298   (0.3100, 0.2000)\n",
      "299   (0.3100, 0.2000)\n",
      "300   (0.3100, 0.2000)\n",
      "301   (0.3100, 0.2000)\n",
      "302   (0.3100, 0.2000)\n",
      "303   (0.4600, 0.0000)\n",
      "304   (0.3100, 0.2000)\n",
      "305   (0.3100, 0.2000)\n",
      "306   (0.3100, 0.2000)\n",
      "307   (0.3100, 0.2000)\n",
      "308   (0.3100, 0.2000)\n",
      "309   (0.3100, 0.2000)\n",
      "310   (0.3100, 0.2000)\n",
      "311   (0.3100, 0.2000)\n",
      "312   (0.3100, 0.2000)\n",
      "313   (0.3100, 0.2000)\n",
      "314   (0.3100, 0.2000)\n",
      "315   (0.3100, 0.2000)\n",
      "316   (0.3100, 0.2000)\n",
      "317   (0.3100, 0.2000)\n",
      "318   (0.3100, 0.2000)\n",
      "319   (0.3100, 0.2000)\n",
      "320   (0.3100, 0.2000)\n",
      "321   (0.3100, 0.2000)\n",
      "322   (0.3100, 0.2000)\n",
      "323   (0.3100, 0.2000)\n",
      "324   (0.3100, 0.2000)\n",
      "325   (0.3100, 0.2000)\n",
      "326   (0.3100, 0.2000)\n",
      "327   (0.3100, 0.2000)\n",
      "328   (0.3100, 0.2000)\n",
      "329   (0.3100, 0.2000)\n",
      "330   (0.3100, 0.2000)\n",
      "331   (0.4600, 0.0000)\n",
      "332   (0.3100, 0.2000)\n",
      "333   (0.3100, 0.2000)\n",
      "334   (0.3100, 0.2000)\n",
      "335   (0.3100, 0.2000)\n",
      "336   (0.3100, 0.2000)\n",
      "337   (0.3100, 0.2000)\n",
      "338   (0.3100, 0.2000)\n",
      "339   (0.3100, 0.2000)\n",
      "340   (0.3100, 0.2000)\n",
      "341   (0.3100, 0.2000)\n",
      "342   (0.3100, 0.2000)\n",
      "343   (0.3100, 0.2000)\n",
      "344   (0.3100, 0.2000)\n",
      "345   (0.3100, 0.2000)\n",
      "346   (0.3100, 0.2000)\n",
      "347   (0.3100, 0.2000)\n",
      "348   (0.3100, 0.2000)\n",
      "349   (0.3100, 0.2000)\n",
      "350   (0.3100, 0.2000)\n",
      "351   (0.3100, 0.2000)\n",
      "352   (0.3100, 0.2000)\n",
      "353   (0.3100, 0.2000)\n",
      "354   (0.3100, 0.2000)\n",
      "355   (0.3100, 0.2000)\n",
      "356   (0.3100, 0.2000)\n",
      "357   (0.3100, 0.2000)\n",
      "358   (0.3100, 0.2000)\n",
      "359   (0.3100, 0.2000)\n",
      "360   (0.3100, 0.2000)\n",
      "361   (0.3100, 0.2000)\n",
      "362   (0.4600, 0.0000)\n",
      "363   (0.3100, 0.2000)\n",
      "364   (0.3100, 0.2000)\n",
      "365   (0.3100, 0.2000)\n",
      "366   (0.3100, 0.2000)\n",
      "367   (0.3100, 0.2000)\n",
      "368   (0.3100, 0.2000)\n",
      "369   (0.3100, 0.2000)\n",
      "370   (0.3100, 0.2000)\n",
      "371   (0.3100, 0.2000)\n",
      "372   (0.3100, 0.2000)\n",
      "373   (0.3100, 0.2000)\n",
      "374   (0.3100, 0.2000)\n",
      "375   (0.3100, 0.2000)\n",
      "376   (0.3100, 0.2000)\n",
      "377   (0.3100, 0.2000)\n",
      "378   (0.3100, 0.2000)\n",
      "379   (0.3100, 0.2000)\n",
      "380   (0.3100, 0.2000)\n",
      "381   (0.3100, 0.2000)\n",
      "382   (0.3100, 0.2000)\n",
      "383   (0.3100, 0.2000)\n",
      "384   (0.3100, 0.2000)\n",
      "385   (0.3100, 0.2000)\n",
      "386   (0.3100, 0.2000)\n",
      "387   (0.3100, 0.2000)\n",
      "388   (0.3100, 0.2000)\n",
      "389   (0.3100, 0.2000)\n",
      "390   (0.3100, 0.2000)\n",
      "391   (0.3100, 0.2000)\n",
      "392   (0.3100, 0.2000)\n",
      "393   (0.3100, 0.2000)\n",
      "394   (0.3100, 0.2000)\n",
      "395   (0.4600, 0.0000)\n",
      "396   (0.3100, 0.2000)\n",
      "397   (0.3100, 0.2000)\n",
      "398   (0.4600, 0.0000)\n",
      "399   (0.4600, 0.0000)\n",
      "400   (0.3100, 0.2000)\n",
      "401   (0.3100, 0.2000)\n",
      "402   (0.3100, 0.2000)\n",
      "403   (0.3100, 0.2000)\n",
      "404   (0.3100, 0.2000)\n",
      "405   (0.3100, 0.2000)\n",
      "406   (0.3100, 0.2000)\n",
      "407   (0.3100, 0.2000)\n",
      "408   (0.3100, 0.2000)\n",
      "409   (0.3100, 0.2000)\n",
      "410   (0.3100, 0.2000)\n",
      "411   (0.3100, 0.2000)\n",
      "412   (0.3100, 0.2000)\n",
      "413   (0.3100, 0.2000)\n",
      "414   (0.3100, 0.2000)\n",
      "415   (0.3100, 0.2000)\n",
      "416   (0.3100, 0.2000)\n",
      "417   (0.3100, 0.2000)\n",
      "418   (0.4600, 0.0000)\n",
      "419   (0.3100, 0.2000)\n",
      "420   (0.3100, 0.2000)\n",
      "421   (0.4600, 0.0000)\n",
      "422   (0.3100, 0.2000)\n",
      "423   (0.4600, 0.0000)\n",
      "424   (0.3100, 0.2000)\n",
      "425   (0.3100, 0.2000)\n",
      "426   (0.3100, 0.2000)\n",
      "427   (0.3100, 0.2000)\n",
      "428   (0.3100, 0.2000)\n",
      "429   (0.4600, 0.0000)\n",
      "430   (0.3100, 0.2000)\n",
      "431   (0.3100, 0.2000)\n",
      "432   (0.3100, 0.2000)\n",
      "433   (0.4600, 0.0000)\n",
      "434   (0.3100, 0.2000)\n",
      "435   (0.4600, 0.0000)\n",
      "436   (0.3100, 0.2000)\n",
      "437   (0.4600, 0.0000)\n",
      "438   (0.4600, 0.0000)\n",
      "439   (0.4600, 0.0000)\n",
      "440   (0.4600, 0.0000)\n",
      "441   (0.3100, 0.2000)\n",
      "442   (0.4600, 0.0000)\n",
      "443   (0.3100, 0.2000)\n",
      "444   (0.4600, 0.0000)\n",
      "445   (0.3100, 0.2000)\n",
      "446   (0.4600, 0.0000)\n",
      "447   (0.4600, 0.0000)\n",
      "448   (0.3100, 0.2000)\n",
      "449   (0.4600, 0.0000)\n",
      "450   (0.4600, 0.0000)\n",
      "451   (0.4600, 0.0000)\n",
      "452   (0.4600, 0.0000)\n",
      "453   (0.4600, 0.0000)\n",
      "454   (0.4600, 0.0000)\n",
      "455   (0.4600, 0.0000)\n",
      "456   (0.3100, 0.2000)\n",
      "457   (0.4600, 0.0000)\n",
      "458   (0.4600, 0.0000)\n",
      "459   (0.4600, 0.0000)\n",
      "460   (0.4600, 0.0000)\n",
      "461   (0.4600, 0.0000)\n",
      "462   (0.4600, 0.0000)\n",
      "463   (0.4600, 0.0000)\n",
      "464   (0.4600, 0.0000)\n",
      "465   (0.4600, 0.0000)\n",
      "466   (0.4600, 0.0000)\n",
      "467   (0.4600, 0.0000)\n",
      "468   (0.4600, 0.0000)\n",
      "469   (0.4600, 0.0000)\n",
      "470   (0.4600, 0.0000)\n",
      "471   (0.4600, 0.0000)\n",
      "472   (0.4600, 0.0000)\n",
      "473   (0.3100, 0.2000)\n",
      "474   (0.4600, 0.0000)\n",
      "475   (0.4600, 0.0000)\n",
      "476   (0.4600, 0.0000)\n",
      "477   (0.4600, 0.0000)\n",
      "478   (0.4600, 0.0000)\n",
      "479   (0.4600, 0.0000)\n",
      "480   (0.4600, 0.0000)\n",
      "481   (0.4600, 0.0000)\n",
      "482   (0.4600, 0.0000)\n",
      "483   (0.4600, 0.0000)\n",
      "484   (0.4600, 0.0000)\n",
      "485   (0.3100, 0.2000)\n",
      "486   (0.4600, 0.0000)\n",
      "487   (0.4600, 0.0000)\n",
      "488   (0.4600, 0.0000)\n",
      "489   (0.4600, 0.0000)\n",
      "490   (0.4600, 0.0000)\n",
      "491   (0.4600, 0.0000)\n",
      "492   (0.4600, 0.0000)\n",
      "493   (0.4600, 0.0000)\n",
      "494   (0.4600, 0.0000)\n",
      "495   (0.4600, 0.0000)\n",
      "496   (0.4600, 0.0000)\n",
      "497   (0.4600, 0.0000)\n",
      "498   (0.4600, 0.0000)\n",
      "499   (0.4600, 0.0000)\n",
      "500   (0.4600, 0.0000)\n",
      "  0.630479 seconds (2.14 M allocations: 65.012 MiB, 1.45% gc time, 40.79% compilation time: 100% of which was recompilation)\n"
     ]
    }
   ],
   "source": [
    "@time final_pop = run_GA(X, y; cfg, target, features);"
   ]
  },
  {
   "cell_type": "code",
   "execution_count": 31,
   "metadata": {},
   "outputs": [
    {
     "data": {
      "text/plain": [
       "\"false\""
      ]
     },
     "metadata": {},
     "output_type": "display_data"
    }
   ],
   "source": [
    "best = minimum(final_pop)\n",
    "to_expression(best, features)"
   ]
  },
  {
   "cell_type": "code",
   "execution_count": 32,
   "metadata": {},
   "outputs": [
    {
     "name": "stdout",
     "output_type": "stream",
     "text": [
      "best_res = (0.24, 0.4)\n"
     ]
    },
    {
     "data": {
      "text/plain": [
       "\"~pheV & lysW\""
      ]
     },
     "metadata": {},
     "output_type": "display_data"
    }
   ],
   "source": [
    "best_res, best_idx = findmin(ind->(ind.fitting_error_rate, ind.complexity), final_pop)\n",
    "@show best_res\n",
    "to_expression(final_pop[best_idx], features)"
   ]
  },
  {
   "cell_type": "code",
   "execution_count": 10,
   "metadata": {},
   "outputs": [
    {
     "name": "stdout",
     "output_type": "stream",
     "text": [
      "extrema(ds) = (0, 7)\n"
     ]
    },
    {
     "data": {
      "text/html": [
       "<div><div style = \"float: left;\"><span>200×3 DataFrame</span></div><div style = \"float: right;\"><span style = \"font-style: italic;\">175 rows omitted</span></div><div style = \"clear: both;\"></div></div><div class = \"data-frame\" style = \"overflow-x: scroll;\"><table class = \"data-frame\" style = \"margin-bottom: 6px;\"><thead><tr class = \"header\"><th class = \"rowNumber\" style = \"font-weight: bold; text-align: right;\">Row</th><th style = \"text-align: left;\">error</th><th style = \"text-align: left;\">complexity</th><th style = \"text-align: left;\">distance</th></tr><tr class = \"subheader headerLastRow\"><th class = \"rowNumber\" style = \"font-weight: bold; text-align: right;\"></th><th title = \"Float64\" style = \"text-align: left;\">Float64</th><th title = \"Float64\" style = \"text-align: left;\">Float64</th><th title = \"Int64\" style = \"text-align: left;\">Int64</th></tr></thead><tbody><tr><td class = \"rowNumber\" style = \"font-weight: bold; text-align: right;\">1</td><td style = \"text-align: right;\">0.24</td><td style = \"text-align: right;\">0.866667</td><td style = \"text-align: right;\">0</td></tr><tr><td class = \"rowNumber\" style = \"font-weight: bold; text-align: right;\">2</td><td style = \"text-align: right;\">0.24</td><td style = \"text-align: right;\">0.866667</td><td style = \"text-align: right;\">0</td></tr><tr><td class = \"rowNumber\" style = \"font-weight: bold; text-align: right;\">3</td><td style = \"text-align: right;\">0.24</td><td style = \"text-align: right;\">0.866667</td><td style = \"text-align: right;\">0</td></tr><tr><td class = \"rowNumber\" style = \"font-weight: bold; text-align: right;\">4</td><td style = \"text-align: right;\">0.24</td><td style = \"text-align: right;\">0.866667</td><td style = \"text-align: right;\">0</td></tr><tr><td class = \"rowNumber\" style = \"font-weight: bold; text-align: right;\">5</td><td style = \"text-align: right;\">0.24</td><td style = \"text-align: right;\">0.866667</td><td style = \"text-align: right;\">0</td></tr><tr><td class = \"rowNumber\" style = \"font-weight: bold; text-align: right;\">6</td><td style = \"text-align: right;\">0.24</td><td style = \"text-align: right;\">0.866667</td><td style = \"text-align: right;\">0</td></tr><tr><td class = \"rowNumber\" style = \"font-weight: bold; text-align: right;\">7</td><td style = \"text-align: right;\">0.24</td><td style = \"text-align: right;\">0.866667</td><td style = \"text-align: right;\">0</td></tr><tr><td class = \"rowNumber\" style = \"font-weight: bold; text-align: right;\">8</td><td style = \"text-align: right;\">0.24</td><td style = \"text-align: right;\">0.866667</td><td style = \"text-align: right;\">0</td></tr><tr><td class = \"rowNumber\" style = \"font-weight: bold; text-align: right;\">9</td><td style = \"text-align: right;\">0.24</td><td style = \"text-align: right;\">0.866667</td><td style = \"text-align: right;\">0</td></tr><tr><td class = \"rowNumber\" style = \"font-weight: bold; text-align: right;\">10</td><td style = \"text-align: right;\">0.24</td><td style = \"text-align: right;\">0.866667</td><td style = \"text-align: right;\">0</td></tr><tr><td class = \"rowNumber\" style = \"font-weight: bold; text-align: right;\">11</td><td style = \"text-align: right;\">0.24</td><td style = \"text-align: right;\">0.866667</td><td style = \"text-align: right;\">0</td></tr><tr><td class = \"rowNumber\" style = \"font-weight: bold; text-align: right;\">12</td><td style = \"text-align: right;\">0.24</td><td style = \"text-align: right;\">0.866667</td><td style = \"text-align: right;\">0</td></tr><tr><td class = \"rowNumber\" style = \"font-weight: bold; text-align: right;\">13</td><td style = \"text-align: right;\">0.24</td><td style = \"text-align: right;\">0.866667</td><td style = \"text-align: right;\">0</td></tr><tr><td style = \"text-align: right;\">&vellip;</td><td style = \"text-align: right;\">&vellip;</td><td style = \"text-align: right;\">&vellip;</td><td style = \"text-align: right;\">&vellip;</td></tr><tr><td class = \"rowNumber\" style = \"font-weight: bold; text-align: right;\">189</td><td style = \"text-align: right;\">0.46</td><td style = \"text-align: right;\">0.6</td><td style = \"text-align: right;\">3</td></tr><tr><td class = \"rowNumber\" style = \"font-weight: bold; text-align: right;\">190</td><td style = \"text-align: right;\">0.305</td><td style = \"text-align: right;\">1.73333</td><td style = \"text-align: right;\">4</td></tr><tr><td class = \"rowNumber\" style = \"font-weight: bold; text-align: right;\">191</td><td style = \"text-align: right;\">0.355</td><td style = \"text-align: right;\">1.53333</td><td style = \"text-align: right;\">5</td></tr><tr><td class = \"rowNumber\" style = \"font-weight: bold; text-align: right;\">192</td><td style = \"text-align: right;\">0.32</td><td style = \"text-align: right;\">1.8</td><td style = \"text-align: right;\">5</td></tr><tr><td class = \"rowNumber\" style = \"font-weight: bold; text-align: right;\">193</td><td style = \"text-align: right;\">0.365</td><td style = \"text-align: right;\">1.53333</td><td style = \"text-align: right;\">3</td></tr><tr><td class = \"rowNumber\" style = \"font-weight: bold; text-align: right;\">194</td><td style = \"text-align: right;\">0.295</td><td style = \"text-align: right;\">2.06667</td><td style = \"text-align: right;\">3</td></tr><tr><td class = \"rowNumber\" style = \"font-weight: bold; text-align: right;\">195</td><td style = \"text-align: right;\">0.34</td><td style = \"text-align: right;\">1.8</td><td style = \"text-align: right;\">1</td></tr><tr><td class = \"rowNumber\" style = \"font-weight: bold; text-align: right;\">196</td><td style = \"text-align: right;\">0.41</td><td style = \"text-align: right;\">1.53333</td><td style = \"text-align: right;\">1</td></tr><tr><td class = \"rowNumber\" style = \"font-weight: bold; text-align: right;\">197</td><td style = \"text-align: right;\">0.46</td><td style = \"text-align: right;\">1.26667</td><td style = \"text-align: right;\">2</td></tr><tr><td class = \"rowNumber\" style = \"font-weight: bold; text-align: right;\">198</td><td style = \"text-align: right;\">0.46</td><td style = \"text-align: right;\">1.26667</td><td style = \"text-align: right;\">0</td></tr><tr><td class = \"rowNumber\" style = \"font-weight: bold; text-align: right;\">199</td><td style = \"text-align: right;\">0.46</td><td style = \"text-align: right;\">1.26667</td><td style = \"text-align: right;\">2</td></tr><tr><td class = \"rowNumber\" style = \"font-weight: bold; text-align: right;\">200</td><td style = \"text-align: right;\">0.53</td><td style = \"text-align: right;\">0.866667</td><td style = \"text-align: right;\">0</td></tr></tbody></table></div>"
      ],
      "text/latex": [
       "\\begin{tabular}{r|ccc}\n",
       "\t& error & complexity & distance\\\\\n",
       "\t\\hline\n",
       "\t& Float64 & Float64 & Int64\\\\\n",
       "\t\\hline\n",
       "\t1 & 0.24 & 0.866667 & 0 \\\\\n",
       "\t2 & 0.24 & 0.866667 & 0 \\\\\n",
       "\t3 & 0.24 & 0.866667 & 0 \\\\\n",
       "\t4 & 0.24 & 0.866667 & 0 \\\\\n",
       "\t5 & 0.24 & 0.866667 & 0 \\\\\n",
       "\t6 & 0.24 & 0.866667 & 0 \\\\\n",
       "\t7 & 0.24 & 0.866667 & 0 \\\\\n",
       "\t8 & 0.24 & 0.866667 & 0 \\\\\n",
       "\t9 & 0.24 & 0.866667 & 0 \\\\\n",
       "\t10 & 0.24 & 0.866667 & 0 \\\\\n",
       "\t11 & 0.24 & 0.866667 & 0 \\\\\n",
       "\t12 & 0.24 & 0.866667 & 0 \\\\\n",
       "\t13 & 0.24 & 0.866667 & 0 \\\\\n",
       "\t14 & 0.24 & 0.866667 & 0 \\\\\n",
       "\t15 & 0.24 & 0.866667 & 0 \\\\\n",
       "\t16 & 0.24 & 0.866667 & 0 \\\\\n",
       "\t17 & 0.24 & 0.866667 & 0 \\\\\n",
       "\t18 & 0.24 & 0.866667 & 0 \\\\\n",
       "\t19 & 0.24 & 0.866667 & 0 \\\\\n",
       "\t20 & 0.24 & 0.866667 & 0 \\\\\n",
       "\t21 & 0.24 & 0.866667 & 0 \\\\\n",
       "\t22 & 0.24 & 0.866667 & 0 \\\\\n",
       "\t23 & 0.24 & 0.866667 & 0 \\\\\n",
       "\t24 & 0.24 & 0.866667 & 0 \\\\\n",
       "\t$\\dots$ & $\\dots$ & $\\dots$ & $\\dots$ \\\\\n",
       "\\end{tabular}\n"
      ],
      "text/plain": [
       "\u001b[1m200×3 DataFrame\u001b[0m\n",
       "\u001b[1m Row \u001b[0m│\u001b[1m error   \u001b[0m\u001b[1m complexity \u001b[0m\u001b[1m distance \u001b[0m\n",
       "     │\u001b[90m Float64 \u001b[0m\u001b[90m Float64    \u001b[0m\u001b[90m Int64    \u001b[0m\n",
       "─────┼───────────────────────────────\n",
       "   1 │   0.24     0.866667         0\n",
       "   2 │   0.24     0.866667         0\n",
       "   3 │   0.24     0.866667         0\n",
       "   4 │   0.24     0.866667         0\n",
       "   5 │   0.24     0.866667         0\n",
       "   6 │   0.24     0.866667         0\n",
       "   7 │   0.24     0.866667         0\n",
       "   8 │   0.24     0.866667         0\n",
       "  ⋮  │    ⋮         ⋮          ⋮\n",
       " 194 │   0.295    2.06667          3\n",
       " 195 │   0.34     1.8              1\n",
       " 196 │   0.41     1.53333          1\n",
       " 197 │   0.46     1.26667          2\n",
       " 198 │   0.46     1.26667          0\n",
       " 199 │   0.46     1.26667          2\n",
       " 200 │   0.53     0.866667         0\n",
       "\u001b[36m                     185 rows omitted\u001b[0m"
      ]
     },
     "metadata": {},
     "output_type": "display_data"
    }
   ],
   "source": [
    "sort!(final_pop)\n",
    "ds = [compute_distance(final_pop[i], final_pop[i+1]) for i in 1:length(final_pop)-1]\n",
    "@show extrema(ds)\n",
    "push!(ds, 0)\n",
    "\n",
    "final_df = DataFrame(\n",
    "    error=[ind.fitting_error_rate for ind in final_pop],\n",
    "    complexity=[ind.complexity for ind in final_pop],\n",
    "    distance=ds\n",
    ")"
   ]
  },
  {
   "cell_type": "code",
   "execution_count": 11,
   "metadata": {},
   "outputs": [
    {
     "data": {
      "text/plain": [
       "\"~pheV & lysW\""
      ]
     },
     "metadata": {},
     "output_type": "display_data"
    }
   ],
   "source": [
    "to_expression(minimum(final_pop), features)"
   ]
  },
  {
   "cell_type": "code",
   "execution_count": 12,
   "metadata": {},
   "outputs": [
    {
     "data": {
      "text/plain": [
       "160"
      ]
     },
     "metadata": {},
     "output_type": "display_data"
    }
   ],
   "source": [
    "findfirst(!iszero, ds)"
   ]
  },
  {
   "cell_type": "markdown",
   "metadata": {},
   "source": [
    "### CGA"
   ]
  },
  {
   "cell_type": "code",
   "execution_count": null,
   "metadata": {},
   "outputs": [],
   "source": [
    "@time final_pop = run_CGA(X, y; cfg, target, features);"
   ]
  },
  {
   "cell_type": "code",
   "execution_count": null,
   "metadata": {},
   "outputs": [],
   "source": [
    "sort!(final_pop)\n",
    "ds = [compute_distance(final_pop[i], final_pop[i+1]) for i in 1:length(final_pop)-1]\n",
    "@show extrema(ds)\n",
    "push!(ds, 0)\n",
    ";"
   ]
  },
  {
   "cell_type": "code",
   "execution_count": null,
   "metadata": {},
   "outputs": [],
   "source": [
    "final_df = DataFrame(\n",
    "    error=[ind.fitting_error_rate for ind in final_pop],\n",
    "    complexity=[ind.complexity for ind in final_pop],\n",
    "    distance=ds\n",
    ")"
   ]
  },
  {
   "cell_type": "code",
   "execution_count": null,
   "metadata": {},
   "outputs": [],
   "source": [
    "to_expression(minimum(final_pop), features)"
   ]
  },
  {
   "cell_type": "code",
   "execution_count": null,
   "metadata": {},
   "outputs": [],
   "source": [
    "findfirst(!iszero, ds)"
   ]
  },
  {
   "cell_type": "code",
   "execution_count": null,
   "metadata": {},
   "outputs": [],
   "source": [
    "first(final_df, 20)"
   ]
  },
  {
   "cell_type": "code",
   "execution_count": null,
   "metadata": {},
   "outputs": [],
   "source": []
  }
 ],
 "metadata": {
  "kernelspec": {
   "display_name": "Julia 1.10.4",
   "language": "julia",
   "name": "julia-1.10"
  },
  "language_info": {
   "file_extension": ".jl",
   "mimetype": "application/julia",
   "name": "julia",
   "version": "1.10.4"
  }
 },
 "nbformat": 4,
 "nbformat_minor": 2
}
